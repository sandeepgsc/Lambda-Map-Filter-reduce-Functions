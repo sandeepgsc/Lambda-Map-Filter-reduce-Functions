{
 "cells": [
  {
   "cell_type": "code",
   "execution_count": 2,
   "metadata": {},
   "outputs": [
    {
     "name": "stdout",
     "output_type": "stream",
     "text": [
      "100\n"
     ]
    }
   ],
   "source": [
    "# with normal function \n",
    "\n",
    "def kamal(a):\n",
    "    return a * a\n",
    "    \n",
    "\n",
    "b = kamal(10) # calling function \n",
    "print(b)"
   ]
  },
  {
   "cell_type": "code",
   "execution_count": 3,
   "metadata": {},
   "outputs": [
    {
     "data": {
      "text/plain": [
       "100"
      ]
     },
     "execution_count": 3,
     "metadata": {},
     "output_type": "execute_result"
    }
   ],
   "source": [
    "## lambda function  single variable \n",
    "a = 10\n",
    "b = lambda x : a * a\n",
    "b(a)"
   ]
  },
  {
   "cell_type": "raw",
   "metadata": {},
   "source": [
    "## syntax for lambda function  # arguments and parameters both are same , expression and logic both are same \n",
    "\n",
    "lambda arguments : expression "
   ]
  },
  {
   "cell_type": "code",
   "execution_count": 9,
   "metadata": {},
   "outputs": [
    {
     "data": {
      "text/plain": [
       "2"
      ]
     },
     "execution_count": 9,
     "metadata": {},
     "output_type": "execute_result"
    }
   ],
   "source": [
    "# Multiple variables \n",
    "a = 1\n",
    "b = 2\n",
    "c = lambda x , y: a * b\n",
    "c(a,b)"
   ]
  },
  {
   "cell_type": "code",
   "execution_count": 10,
   "metadata": {},
   "outputs": [
    {
     "name": "stdout",
     "output_type": "stream",
     "text": [
      "Enter a Number for table = 2\n",
      "2 * 1 = 2\n",
      "2 * 2 = 4\n",
      "2 * 3 = 6\n",
      "2 * 4 = 8\n",
      "2 * 5 = 10\n",
      "2 * 6 = 12\n",
      "2 * 7 = 14\n",
      "2 * 8 = 16\n",
      "2 * 9 = 18\n",
      "2 * 10 = 20\n"
     ]
    }
   ],
   "source": [
    "## print 2 table in python 2 * 1 = 2 till 2 * 10 = 20\n",
    "## without lambda function \n",
    "n = int(input(\"Enter a Number for table = \"))\n",
    "for i in range(1,11): # i  = 1 to 10\n",
    "    print(n ,'*',i , '=', n * i)\n",
    "    \n"
   ]
  },
  {
   "cell_type": "code",
   "execution_count": null,
   "metadata": {},
   "outputs": [],
   "source": [
    "## with lambda function \n",
    "n = int(input(\"Enter a Number for table = \"))\n",
    "c = lambda x , y : n * i \n",
    "for i in range(1,11):\n",
    "     print(n ,'*',i , '=', c(n , i))\n",
    "print(c)\n",
    "    "
   ]
  }
 ],
 "metadata": {
  "kernelspec": {
   "display_name": "Python 3",
   "language": "python",
   "name": "python3"
  },
  "language_info": {
   "codemirror_mode": {
    "name": "ipython",
    "version": 3
   },
   "file_extension": ".py",
   "mimetype": "text/x-python",
   "name": "python",
   "nbconvert_exporter": "python",
   "pygments_lexer": "ipython3",
   "version": "3.7.4"
  }
 },
 "nbformat": 4,
 "nbformat_minor": 2
}
