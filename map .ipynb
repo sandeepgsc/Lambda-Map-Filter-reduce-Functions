{
 "cells": [
  {
   "cell_type": "code",
   "execution_count": 4,
   "metadata": {},
   "outputs": [
    {
     "name": "stdout",
     "output_type": "stream",
     "text": [
      "The 1 Number is Odd\n",
      "The 2 Number is Even\n",
      "The 3 Number is Odd\n",
      "The 4 Number is Even\n",
      "The 5 Number is Odd\n",
      "The 6 Number is Even\n",
      "The 7 Number is Odd\n",
      "The 8 Number is Even\n",
      "The 9 Number is Odd\n",
      "The 10 Number is Even\n"
     ]
    }
   ],
   "source": [
    "## without function \n",
    "\n",
    "a = [1,2,3,4,5,6,7,8,9,10]\n",
    "for i in a:\n",
    "    if i % 2 == 0:\n",
    "        print(\"The {} Number is Even\".format(i))\n",
    "    else:\n",
    "        print(\"The {} Number is Odd\".format(i))\n"
   ]
  },
  {
   "cell_type": "code",
   "execution_count": 5,
   "metadata": {},
   "outputs": [
    {
     "name": "stdout",
     "output_type": "stream",
     "text": [
      "The 1 Number is Odd\n",
      "The 2 Number is Even\n",
      "The 3 Number is Odd\n",
      "The 4 Number is Even\n",
      "The 5 Number is Odd\n",
      "The 6 Number is Even\n",
      "The 7 Number is Odd\n",
      "The 8 Number is Even\n",
      "The 9 Number is Odd\n",
      "The 10 Number is Even\n"
     ]
    }
   ],
   "source": [
    "## with function\n",
    "def kamal(a):\n",
    "    for i in a:\n",
    "        if i % 2 == 0:\n",
    "            print(\"The {} Number is Even\".format(i))\n",
    "        else:\n",
    "            print(\"The {} Number is Odd\".format(i))\n",
    "a = [1,2,3,4,5,6,7,8,9,10]\n",
    "kamal(a)"
   ]
  },
  {
   "cell_type": "code",
   "execution_count": 7,
   "metadata": {},
   "outputs": [
    {
     "name": "stdout",
     "output_type": "stream",
     "text": [
      "['The 1 Number is odd', 'The 2 Number is Even', 'The 3 Number is odd', 'The 4 Number is Even', 'The 5 Number is odd', 'The 6 Number is Even', 'The 7 Number is odd', 'The 8 Number is Even', 'The 9 Number is odd', 'The 10 Number is Even']\n"
     ]
    }
   ],
   "source": [
    "## with list comprehension \n",
    "\n",
    "\n",
    "a = [1,2,3,4,5,6,7,8,9,10]\n",
    "\n",
    "b = ['The {} Number is Even'.format(i) if i % 2 == 0 else \"The {} Number is odd\".format(i) for i in a]\n",
    "print(b)"
   ]
  },
  {
   "cell_type": "code",
   "execution_count": 8,
   "metadata": {},
   "outputs": [],
   "source": [
    "# syntax for map function \n",
    "\n",
    "# map(function , user_input_values)"
   ]
  },
  {
   "cell_type": "code",
   "execution_count": 18,
   "metadata": {},
   "outputs": [],
   "source": [
    "def kamal(a):\n",
    "    if a % 2 == 0:\n",
    "        print('The {} Number is Even'.format(a))\n",
    "    else:\n",
    "        print('The {} Number is odd'.format(a))\n",
    "        "
   ]
  },
  {
   "cell_type": "code",
   "execution_count": 19,
   "metadata": {},
   "outputs": [
    {
     "name": "stdout",
     "output_type": "stream",
     "text": [
      "The 1 Number is odd\n",
      "The 2 Number is Even\n",
      "The 3 Number is odd\n",
      "The 4 Number is Even\n",
      "The 5 Number is odd\n",
      "The 6 Number is Even\n",
      "The 7 Number is odd\n",
      "The 8 Number is Even\n",
      "The 9 Number is odd\n",
      "The 10 Number is Even\n"
     ]
    }
   ],
   "source": [
    "a = [1,2,3,4,5,6,7,8,9,10]\n",
    "c = list(map(kamal , a))\n"
   ]
  },
  {
   "cell_type": "code",
   "execution_count": null,
   "metadata": {},
   "outputs": [],
   "source": [
    "# map = kamal(1) , kamal(2) , kamal(3) , kamal(4), "
   ]
  },
  {
   "cell_type": "code",
   "execution_count": 26,
   "metadata": {},
   "outputs": [
    {
     "name": "stdout",
     "output_type": "stream",
     "text": [
      "[4, 5, 6, 7, 8, 9, 10, 11, 12, 13]\n"
     ]
    }
   ],
   "source": [
    "a = [1,2,3,4,5,6,7,8,9,10]\n",
    "b = map(lambda x : x + 3 , a)\n",
    "print(list(b))"
   ]
  },
  {
   "cell_type": "code",
   "execution_count": 27,
   "metadata": {},
   "outputs": [
    {
     "name": "stdout",
     "output_type": "stream",
     "text": [
      "[4, 5, 6, 7, 8, 9, 10, 11, 12, 13]\n"
     ]
    }
   ],
   "source": [
    "a = [1,2,3,4,5,6,7,8,9,10]\n",
    "c = []\n",
    "for i in a:\n",
    "    c.append(i + 3)\n",
    "print(c)"
   ]
  },
  {
   "cell_type": "code",
   "execution_count": 31,
   "metadata": {},
   "outputs": [
    {
     "name": "stdout",
     "output_type": "stream",
     "text": [
      "[1, 2, 3, 4, 10, 11, 13, 14]\n"
     ]
    }
   ],
   "source": [
    "a = [1,2,3,4]\n",
    "b = [10,11,13,14]\n",
    "c = a + b\n",
    "print(c)"
   ]
  },
  {
   "cell_type": "code",
   "execution_count": 29,
   "metadata": {},
   "outputs": [
    {
     "name": "stdout",
     "output_type": "stream",
     "text": [
      "11\n",
      "13\n",
      "16\n",
      "18\n"
     ]
    }
   ],
   "source": [
    "## without map function \n",
    "a = [1,2,3,4]\n",
    "b = [10,11,13,14]\n",
    "for i , j in zip(a , b):\n",
    "    print(i + j)"
   ]
  },
  {
   "cell_type": "code",
   "execution_count": 30,
   "metadata": {},
   "outputs": [
    {
     "name": "stdout",
     "output_type": "stream",
     "text": [
      "[11, 13, 16, 18]\n"
     ]
    }
   ],
   "source": [
    "a = [1,2,3,4]\n",
    "b = [10,11,13,14]\n",
    "c = map(lambda x , y : x + y  , a , b)\n",
    "print(list(c))"
   ]
  },
  {
   "cell_type": "code",
   "execution_count": 32,
   "metadata": {},
   "outputs": [
    {
     "name": "stdout",
     "output_type": "stream",
     "text": [
      "[20, 40, 60]\n"
     ]
    }
   ],
   "source": [
    "a = map(lambda x : x * 2 , [10,20,30])\n",
    "print(list(a))"
   ]
  },
  {
   "cell_type": "code",
   "execution_count": 33,
   "metadata": {},
   "outputs": [
    {
     "name": "stdout",
     "output_type": "stream",
     "text": [
      "20\n",
      "40\n",
      "60\n"
     ]
    }
   ],
   "source": [
    "a = [10,20,30]\n",
    "for i in a:\n",
    "    print(i * 2)"
   ]
  },
  {
   "cell_type": "code",
   "execution_count": null,
   "metadata": {},
   "outputs": [],
   "source": []
  }
 ],
 "metadata": {
  "kernelspec": {
   "display_name": "Python 3",
   "language": "python",
   "name": "python3"
  },
  "language_info": {
   "codemirror_mode": {
    "name": "ipython",
    "version": 3
   },
   "file_extension": ".py",
   "mimetype": "text/x-python",
   "name": "python",
   "nbconvert_exporter": "python",
   "pygments_lexer": "ipython3",
   "version": "3.7.4"
  }
 },
 "nbformat": 4,
 "nbformat_minor": 2
}
