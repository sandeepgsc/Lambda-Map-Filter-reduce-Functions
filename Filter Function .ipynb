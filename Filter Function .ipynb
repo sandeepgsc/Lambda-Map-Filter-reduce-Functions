{
 "cells": [
  {
   "cell_type": "code",
   "execution_count": 1,
   "metadata": {},
   "outputs": [
    {
     "name": "stdout",
     "output_type": "stream",
     "text": [
      "The Number 1 is ODD\n",
      "The Number 2 is EVEN \n",
      "The Number 3 is ODD\n",
      "The Number 4 is EVEN \n",
      "The Number 5 is ODD\n",
      "The Number 6 is EVEN \n",
      "The Number 7 is ODD\n",
      "The Number 8 is EVEN \n",
      "The Number 9 is ODD\n",
      "The Number 10 is EVEN \n"
     ]
    }
   ],
   "source": [
    "## with  function \n",
    "def kamal(a):\n",
    "    for i in a:\n",
    "        if i % 2 == 0:\n",
    "            print(\"The Number {} is EVEN \".format(i))\n",
    "        else:\n",
    "            print(\"The Number {} is ODD\".format(i))\n",
    "            \n",
    "\n",
    "a = [1,2,3,4,5,6,7,8,9,10]\n",
    "kamal(a)\n",
    "\n"
   ]
  },
  {
   "cell_type": "code",
   "execution_count": 3,
   "metadata": {},
   "outputs": [
    {
     "name": "stdout",
     "output_type": "stream",
     "text": [
      "The Number 1 is ODD\n",
      "The NUmber 2 is EVEN \n",
      "The Number 3 is ODD\n",
      "The NUmber 4 is EVEN \n",
      "The Number 5 is ODD\n",
      "The NUmber 6 is EVEN \n",
      "The Number 7 is ODD\n",
      "The NUmber 8 is EVEN \n",
      "The Number 9 is ODD\n",
      "The NUmber 10 is EVEN \n"
     ]
    }
   ],
   "source": [
    "## without function \n",
    "a = [1,2,3,4,5,6,7,8,9,10]\n",
    "for i in a:\n",
    "    if i % 2 == 0:\n",
    "        print(\"The NUmber {} is EVEN \".format(i))\n",
    "    else:\n",
    "        print(\"The Number {} is ODD\".format(i))"
   ]
  },
  {
   "cell_type": "code",
   "execution_count": 4,
   "metadata": {},
   "outputs": [
    {
     "name": "stdout",
     "output_type": "stream",
     "text": [
      "['The NUmber 1 is ODD ', 'The NUmber 2 is EVEN ', 'The NUmber 3 is ODD ', 'The NUmber 4 is EVEN ', 'The NUmber 5 is ODD ', 'The NUmber 6 is EVEN ', 'The NUmber 7 is ODD ', 'The NUmber 8 is EVEN ', 'The NUmber 9 is ODD ', 'The NUmber 10 is EVEN ']\n"
     ]
    }
   ],
   "source": [
    "a = [1,2,3,4,5,6,7,8,9,10]\n",
    "b = [\"The NUmber {} is EVEN \".format(i) if i % 2 == 0 else \"The NUmber {} is ODD \".format(i) for i in a]\n",
    "print(b)"
   ]
  },
  {
   "cell_type": "code",
   "execution_count": 9,
   "metadata": {},
   "outputs": [
    {
     "name": "stdout",
     "output_type": "stream",
     "text": [
      "Executing lambda function = False\n",
      "Executing lambda function = True\n",
      "Executing lambda function = False\n",
      "Executing lambda function = True\n",
      "Executing lambda function = False\n",
      "Executing lambda function = True\n",
      "Executing lambda function = False\n",
      "Executing lambda function = True\n",
      "Executing lambda function = False\n",
      "Executing lambda function = True\n"
     ]
    }
   ],
   "source": [
    "## Lambda function\n",
    "\n",
    "a = [1,2,3,4,5,6,7,8,9,10]\n",
    "c = lambda x : x % 2 == 0\n",
    "for i in a:\n",
    "    print(\"Executing lambda function =\" , c(i))\n"
   ]
  },
  {
   "cell_type": "code",
   "execution_count": 10,
   "metadata": {},
   "outputs": [],
   "source": [
    "# Map function \n",
    "\n",
    "def kamal(a):\n",
    "    if a % 2 == 0:\n",
    "        print(\"The NUmber {} is EVEN \".format(i))\n",
    "    else:\n",
    "        print(\"The NUmber {} is ODD \".format(i))"
   ]
  },
  {
   "cell_type": "code",
   "execution_count": null,
   "metadata": {},
   "outputs": [],
   "source": [
    "# map(kamal,a)\n",
    "# map(kamal(a) , kamal(a) , kamal(a) , kamal())"
   ]
  },
  {
   "cell_type": "code",
   "execution_count": 15,
   "metadata": {},
   "outputs": [
    {
     "name": "stdout",
     "output_type": "stream",
     "text": [
      "The NUmber 10 is ODD \n",
      "The NUmber 10 is EVEN \n",
      "The NUmber 10 is ODD \n",
      "The NUmber 10 is EVEN \n",
      "The NUmber 10 is ODD \n",
      "The NUmber 10 is EVEN \n",
      "The NUmber 10 is ODD \n",
      "The NUmber 10 is EVEN \n",
      "The NUmber 10 is ODD \n",
      "The NUmber 10 is EVEN \n",
      "[None, None, None, None, None, None, None, None, None, None]\n"
     ]
    }
   ],
   "source": [
    "a = [1,2,3,4,5,6,7,8,9,10]\n",
    "output = map(kamal ,a)\n",
    "print(list(output))"
   ]
  },
  {
   "cell_type": "code",
   "execution_count": 16,
   "metadata": {},
   "outputs": [
    {
     "name": "stdout",
     "output_type": "stream",
     "text": [
      "11\n",
      "12\n",
      "13\n",
      "14\n"
     ]
    }
   ],
   "source": [
    "a = [1,2,3,4]\n",
    "for i in a:\n",
    "    print(i + 10)"
   ]
  },
  {
   "cell_type": "code",
   "execution_count": 18,
   "metadata": {},
   "outputs": [
    {
     "name": "stdout",
     "output_type": "stream",
     "text": [
      "(11, 12, 13, 14)\n"
     ]
    }
   ],
   "source": [
    "a = [1,2,3,4]\n",
    "c = map(lambda x : x + 10 , a)\n",
    "print(tuple(c))"
   ]
  },
  {
   "cell_type": "markdown",
   "metadata": {},
   "source": [
    "## Filter Function"
   ]
  },
  {
   "cell_type": "code",
   "execution_count": 19,
   "metadata": {},
   "outputs": [
    {
     "name": "stdout",
     "output_type": "stream",
     "text": [
      "[False, True, False, True, False, True, False, True, False, True]\n"
     ]
    }
   ],
   "source": [
    "a = [1,2,3,4,5,6,7,8,9,10]\n",
    "b = map(lambda x : x % 2 == 0 , a)\n",
    "print(list(b))"
   ]
  },
  {
   "cell_type": "raw",
   "metadata": {},
   "source": [
    "creates an output list , tuple  which contains values for which the function returns true "
   ]
  },
  {
   "cell_type": "code",
   "execution_count": 20,
   "metadata": {},
   "outputs": [
    {
     "name": "stdout",
     "output_type": "stream",
     "text": [
      "[2, 4, 6, 8, 10]\n"
     ]
    }
   ],
   "source": [
    "a = [1,2,3,4,5,6,7,8,9,10]\n",
    "b = filter(lambda x : x % 2 == 0 , a)\n",
    "print(list(b))"
   ]
  },
  {
   "cell_type": "code",
   "execution_count": null,
   "metadata": {},
   "outputs": [],
   "source": []
  }
 ],
 "metadata": {
  "kernelspec": {
   "display_name": "Python 3",
   "language": "python",
   "name": "python3"
  },
  "language_info": {
   "codemirror_mode": {
    "name": "ipython",
    "version": 3
   },
   "file_extension": ".py",
   "mimetype": "text/x-python",
   "name": "python",
   "nbconvert_exporter": "python",
   "pygments_lexer": "ipython3",
   "version": "3.7.4"
  }
 },
 "nbformat": 4,
 "nbformat_minor": 2
}
